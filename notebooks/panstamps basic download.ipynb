{
 "cells": [
  {
   "cell_type": "markdown",
   "metadata": {},
   "source": [
    "# C10 Targets\n",
    "Check the (multi-wavelength) pan-starrs images of K2 candidates for possible contamination "
   ]
  },
  {
   "cell_type": "code",
   "execution_count": 1,
   "metadata": {
    "ExecuteTime": {
     "end_time": "2018-04-02T14:32:36.926410Z",
     "start_time": "2018-04-02T14:32:36.784496Z"
    }
   },
   "outputs": [
    {
     "name": "stdout",
     "output_type": "stream",
     "text": [
      "Python 2.7.13 :: Continuum Analytics, Inc.\r\n"
     ]
    }
   ],
   "source": [
    "!python --version"
   ]
  },
  {
   "cell_type": "markdown",
   "metadata": {},
   "source": [
    "# Using `panstamps` \n",
    "* Python 2"
   ]
  },
  {
   "cell_type": "markdown",
   "metadata": {},
   "source": [
    "[read-the-docs](http://panstamps.readthedocs.io/en/stable/_includes/index.html#command-line-tutorial)"
   ]
  },
  {
   "cell_type": "raw",
   "metadata": {},
   "source": [
    "!pip install panstamps\n",
    "#!git clone https://github.com/thespacedoctor/panstamps"
   ]
  },
  {
   "cell_type": "code",
   "execution_count": 2,
   "metadata": {
    "ExecuteTime": {
     "end_time": "2018-04-02T14:32:39.121357Z",
     "start_time": "2018-04-02T14:32:38.133071Z"
    }
   },
   "outputs": [
    {
     "name": "stdout",
     "output_type": "stream",
     "text": [
      "Usage:\r\n",
      "    panstamps [options] [--width=<arcminWidth>] [--filters=<filterSet>] [--settings=<pathToSettingsFile>] [--downloadFolder=<path>] (warp|stack) <ra> <dec> [<mjdStart> <mjdEnd>]\r\n",
      "    panstamps [options] --closest=<beforeAfter> [--width=<arcminWidth>] [--filters=<filterSet>] [--settings=<pathToSettingsFile>] [--downloadFolder=<path>] <ra> <dec> <mjd>\r\n"
     ]
    }
   ],
   "source": [
    "!panstamps"
   ]
  },
  {
   "cell_type": "raw",
   "metadata": {},
   "source": [
    "-f, --fits                              download fits (default on)\n",
    "-F, --nofits                            don't download fits (default off)\n",
    "-j, --jpeg                              download jepg (default off)\n",
    "-J, --nojpeg                            don't download jepg (default on)\n",
    "-c, --color                             download color jepg (default off)\n",
    "-C, --nocolor                           don't download color jepg (default on)\n",
    "-a, --annotate                          annotate jpeg (default true)\n",
    "-A, --noannotate                        don't annotate jpeg (default false)\n",
    "-t, --transient                         add a small red circle at transient location (default false)\n",
    "-T, --notransient                       don't add a small red circle at transient location (default true)\n",
    "-g, --greyscale                         convert jpeg to greyscale (default false)\n",
    "-G, --nogreyscale                       don't convert jpeg to greyscale (default true)\n",
    "-i, --invert                            invert jpeg colors (default false)\n",
    "-I, --noinvert                          don't invert jpeg colors (default true)\n",
    "--width=<arcminWidth>                   width of image in arcsec (default 1)\n",
    "--filters=<filterSet>                   filter set to download and use for color image (default gri)\n",
    "--downloadFolder=<path>                 path to the download folder, relative or absolute (folder created where command is run if not set)\n",
    "--settings=<pathToSettingsFile>         the settings file\n",
    "--closest=<beforeAfter>                 return the warp closest in time to the given mjd. If you want to set a strict time window then pass in a positive or negative time in sec (before | after | secs)"
   ]
  },
  {
   "cell_type": "markdown",
   "metadata": {},
   "source": [
    "It is required to use ra and dec as arguments. According to panstarrs website, \n",
    "* epic 201392505 (ra = 183.188556, dec = -1.074821)"
   ]
  },
  {
   "cell_type": "code",
   "execution_count": 15,
   "metadata": {
    "ExecuteTime": {
     "end_time": "2018-04-02T14:36:47.823479Z",
     "start_time": "2018-04-02T14:36:43.143294Z"
    }
   },
   "outputs": [
    {
     "name": "stdout",
     "output_type": "stream",
     "text": [
      "  1 / 1 (100.0%) URLs downloaded\r\n"
     ]
    }
   ],
   "source": [
    "dlpath = '/home/jp/github/OpenAstro/research/C10'\n",
    "\n",
    "!panstamps -FJci --width=1 --filters=grizy --downloadFolder=$dlpath stack 183.188556 -1.074821"
   ]
  },
  {
   "cell_type": "markdown",
   "metadata": {},
   "source": [
    "## Targets"
   ]
  },
  {
   "cell_type": "markdown",
   "metadata": {},
   "source": [
    "[gsheet link](https://docs.google.com/spreadsheets/d/1GfK-UxlUjHU5QXJFH34JvAi-tP55wixRCspxAnLVabU/edit#gid=1374274280)"
   ]
  },
  {
   "cell_type": "code",
   "execution_count": 4,
   "metadata": {
    "ExecuteTime": {
     "end_time": "2018-04-02T14:32:50.194208Z",
     "start_time": "2018-04-02T14:32:50.176925Z"
    },
    "collapsed": true
   },
   "outputs": [],
   "source": [
    "candidates = '''201092629\n",
    "201102594\n",
    "201110617\n",
    "201111557\n",
    "201127519\n",
    "201128338\n",
    "201132684\n",
    "201132684\n",
    "201164625\n",
    "201166680\n",
    "201166680\n",
    "201180665\n",
    "201211526\n",
    "201225286\n",
    "201274010\n",
    "201352100\n",
    "201357643\n",
    "201386739\n",
    "201390048\n",
    "201390927\n",
    "201392505\n",
    "201437844\n",
    "201437844\n",
    "201595106\n",
    "201598502\n",
    "201615463\n",
    "228707509\n",
    "228720681\n",
    "228721452\n",
    "228721452\n",
    "228724899\n",
    "228725791\n",
    "228725791\n",
    "228725972\n",
    "228725972\n",
    "228729473\n",
    "228732031\n",
    "228734900\n",
    "228735255\n",
    "228736155\n",
    "228739306\n",
    "228748383\n",
    "228748826\n",
    "228753871\n",
    "228758778\n",
    "228758948\n",
    "228763938\n",
    "228784812\n",
    "228798746\n",
    "228801451\n",
    "228801451\n",
    "228804845\n",
    "228809391\n",
    "228809550\n",
    "228834632\n",
    "228836835\n",
    "228846243\n",
    "228849382\n",
    "228849382\n",
    "228888935\n",
    "228894622\n",
    "228934525\n",
    "228934525\n",
    "228964773\n",
    "228968232\n",
    "228974324\n",
    "228974907\n",
    "229004835\n",
    "229017395\n",
    "229103251\n",
    "229131722\n",
    "229133720'''.split('\\n')"
   ]
  },
  {
   "cell_type": "markdown",
   "metadata": {},
   "source": [
    "First, query the ra and dec of each target"
   ]
  },
  {
   "cell_type": "code",
   "execution_count": 5,
   "metadata": {
    "ExecuteTime": {
     "end_time": "2018-04-02T14:32:56.985716Z",
     "start_time": "2018-04-02T14:32:50.196160Z"
    },
    "collapsed": true
   },
   "outputs": [],
   "source": [
    "import k2plr\n",
    "\n",
    "client = k2plr.API()\n",
    "epic = client.k2_star(201092629)"
   ]
  },
  {
   "cell_type": "code",
   "execution_count": 6,
   "metadata": {
    "ExecuteTime": {
     "end_time": "2018-04-02T14:32:57.001442Z",
     "start_time": "2018-04-02T14:32:56.991253Z"
    }
   },
   "outputs": [
    {
     "data": {
      "text/plain": [
       "(181.239357, -6.804924)"
      ]
     },
     "execution_count": 6,
     "metadata": {},
     "output_type": "execute_result"
    }
   ],
   "source": [
    "epic.k2_ra, epic.k2_dec"
   ]
  },
  {
   "cell_type": "code",
   "execution_count": 7,
   "metadata": {
    "ExecuteTime": {
     "end_time": "2018-04-02T14:33:33.025748Z",
     "start_time": "2018-04-02T14:32:57.004217Z"
    },
    "collapsed": true
   },
   "outputs": [],
   "source": [
    "from tqdm import tqdm\n",
    "import k2plr\n",
    "\n",
    "client = k2plr.API()\n",
    "\n",
    "ra,dec = [], []\n",
    "\n",
    "for c in candidates:\n",
    "    epic = client.k2_star(int(c))\n",
    "    ra.append(epic.k2_ra)\n",
    "    dec.append(epic.k2_dec)"
   ]
  },
  {
   "cell_type": "raw",
   "metadata": {
    "ExecuteTime": {
     "end_time": "2018-03-22T03:37:07.109173Z",
     "start_time": "2018-03-22T03:36:46.263140Z"
    }
   },
   "source": [
    "from tqdm import tqdm\n",
    "import pandas as pd\n",
    "\n",
    "ra=[]\n",
    "dec=[]\n",
    "\n",
    "for epic in tqdm(candidates):\n",
    "    url = 'https://exofop.ipac.caltech.edu/k2/edit_target.php?id={}'.format(epic)\n",
    "    radec_idx=14\n",
    "    scrape=pd.read_html(url)[2].iloc[radec_idx][:3]\n",
    "\n",
    "    ra.append(str(scrape[1]))\n",
    "    dec.append(str(scrape[2]))"
   ]
  },
  {
   "cell_type": "code",
   "execution_count": 9,
   "metadata": {
    "ExecuteTime": {
     "end_time": "2018-04-02T14:34:39.121290Z",
     "start_time": "2018-04-02T14:34:39.078157Z"
    }
   },
   "outputs": [
    {
     "data": {
      "text/html": [
       "<div>\n",
       "<style>\n",
       "    .dataframe thead tr:only-child th {\n",
       "        text-align: right;\n",
       "    }\n",
       "\n",
       "    .dataframe thead th {\n",
       "        text-align: left;\n",
       "    }\n",
       "\n",
       "    .dataframe tbody tr th {\n",
       "        vertical-align: top;\n",
       "    }\n",
       "</style>\n",
       "<table border=\"1\" class=\"dataframe\">\n",
       "  <thead>\n",
       "    <tr style=\"text-align: right;\">\n",
       "      <th></th>\n",
       "      <th>epic</th>\n",
       "      <th>ra</th>\n",
       "      <th>dec</th>\n",
       "    </tr>\n",
       "  </thead>\n",
       "  <tbody>\n",
       "    <tr>\n",
       "      <th>0</th>\n",
       "      <td>201092629</td>\n",
       "      <td>181.239357</td>\n",
       "      <td>-6.804924</td>\n",
       "    </tr>\n",
       "    <tr>\n",
       "      <th>1</th>\n",
       "      <td>201102594</td>\n",
       "      <td>179.835908</td>\n",
       "      <td>-6.517851</td>\n",
       "    </tr>\n",
       "    <tr>\n",
       "      <th>2</th>\n",
       "      <td>201110617</td>\n",
       "      <td>182.700187</td>\n",
       "      <td>-6.294205</td>\n",
       "    </tr>\n",
       "    <tr>\n",
       "      <th>3</th>\n",
       "      <td>201111557</td>\n",
       "      <td>183.846543</td>\n",
       "      <td>-6.268236</td>\n",
       "    </tr>\n",
       "    <tr>\n",
       "      <th>4</th>\n",
       "      <td>201127519</td>\n",
       "      <td>181.372066</td>\n",
       "      <td>-5.848084</td>\n",
       "    </tr>\n",
       "  </tbody>\n",
       "</table>\n",
       "</div>"
      ],
      "text/plain": [
       "        epic          ra        dec\n",
       "0  201092629  181.239357  -6.804924\n",
       "1  201102594  179.835908  -6.517851\n",
       "2  201110617  182.700187  -6.294205\n",
       "3  201111557  183.846543  -6.268236\n",
       "4  201127519  181.372066  -5.848084"
      ]
     },
     "execution_count": 9,
     "metadata": {},
     "output_type": "execute_result"
    }
   ],
   "source": [
    "import numpy as np\n",
    "import pandas as pd\n",
    "\n",
    "df=pd.DataFrame(data=np.c_[candidates,ra,dec],index=None)\n",
    "df.columns = 'epic ra dec'.split(' ')\n",
    "df.head()"
   ]
  },
  {
   "cell_type": "code",
   "execution_count": 10,
   "metadata": {
    "ExecuteTime": {
     "end_time": "2018-04-02T14:34:39.701767Z",
     "start_time": "2018-04-02T14:34:39.694719Z"
    },
    "collapsed": true
   },
   "outputs": [],
   "source": [
    "df.to_csv('c10-candidate.csv')"
   ]
  },
  {
   "cell_type": "code",
   "execution_count": 11,
   "metadata": {
    "ExecuteTime": {
     "end_time": "2018-04-02T14:34:40.096478Z",
     "start_time": "2018-04-02T14:34:40.088403Z"
    }
   },
   "outputs": [
    {
     "data": {
      "text/plain": [
       "(63,)"
      ]
     },
     "execution_count": 11,
     "metadata": {},
     "output_type": "execute_result"
    }
   ],
   "source": [
    "df = pd.read_csv('c10-candidate.csv',index_col=0)\n",
    "\n",
    "df.epic.unique().shape"
   ]
  },
  {
   "cell_type": "code",
   "execution_count": 12,
   "metadata": {
    "ExecuteTime": {
     "end_time": "2018-04-02T14:34:40.743480Z",
     "start_time": "2018-04-02T14:34:40.737027Z"
    }
   },
   "outputs": [
    {
     "data": {
      "text/plain": [
       "array([201092629, 201102594, 201110617, 201111557, 201127519, 201128338,\n",
       "       201132684, 201164625, 201166680, 201180665, 201211526, 201225286,\n",
       "       201274010, 201352100, 201357643, 201386739, 201390048, 201390927,\n",
       "       201392505, 201437844, 201595106, 201598502, 201615463, 228707509,\n",
       "       228720681, 228721452, 228724899, 228725791, 228725972, 228729473,\n",
       "       228732031, 228734900, 228735255, 228736155, 228739306, 228748383,\n",
       "       228748826, 228753871, 228758778, 228758948, 228763938, 228784812,\n",
       "       228798746, 228801451, 228804845, 228809391, 228809550, 228834632,\n",
       "       228836835, 228846243, 228849382, 228888935, 228894622, 228934525,\n",
       "       228964773, 228968232, 228974324, 228974907, 229004835, 229017395,\n",
       "       229103251, 229131722, 229133720])"
      ]
     },
     "execution_count": 12,
     "metadata": {},
     "output_type": "execute_result"
    }
   ],
   "source": [
    "df.epic.unique()"
   ]
  },
  {
   "cell_type": "raw",
   "metadata": {
    "ExecuteTime": {
     "end_time": "2018-03-22T03:46:25.825152Z",
     "start_time": "2018-03-22T03:46:25.016790Z"
    }
   },
   "source": [
    "import subprocess\n",
    "\n",
    "subprocess.call(\"panstamps -FJci --width=1 --filters=$filters stack $ra $dec\", shell=True)"
   ]
  },
  {
   "cell_type": "code",
   "execution_count": 35,
   "metadata": {
    "ExecuteTime": {
     "end_time": "2018-04-02T14:44:05.672866Z",
     "start_time": "2018-04-02T14:44:04.704075Z"
    }
   },
   "outputs": [
    {
     "name": "stdout",
     "output_type": "stream",
     "text": [
      "Usage:\r\n",
      "    panstamps [options] [--width=<arcminWidth>] [--filters=<filterSet>] [--settings=<pathToSettingsFile>] [--downloadFolder=<path>] (warp|stack) <ra> <dec> [<mjdStart> <mjdEnd>]\r\n",
      "    panstamps [options] --closest=<beforeAfter> [--width=<arcminWidth>] [--filters=<filterSet>] [--settings=<pathToSettingsFile>] [--downloadFolder=<path>] <ra> <dec> <mjd>\r\n"
     ]
    },
    {
     "ename": "OSError",
     "evalue": "[Errno 2] No such file or directory",
     "output_type": "error",
     "traceback": [
      "\u001b[0;31m---------------------------------------------------------------------------\u001b[0m",
      "\u001b[0;31mOSError\u001b[0m                                   Traceback (most recent call last)",
      "\u001b[0;32m<ipython-input-35-d6d534e2e2bf>\u001b[0m in \u001b[0;36m<module>\u001b[0;34m()\u001b[0m\n\u001b[1;32m     19\u001b[0m         \u001b[0mfoldername\u001b[0m\u001b[0;34m=\u001b[0m\u001b[0;34m'{:.6f}m{:.6f}'\u001b[0m\u001b[0;34m.\u001b[0m\u001b[0mformat\u001b[0m\u001b[0;34m(\u001b[0m\u001b[0mra\u001b[0m\u001b[0;34m,\u001b[0m\u001b[0mdec\u001b[0m\u001b[0;34m)\u001b[0m\u001b[0;34m\u001b[0m\u001b[0m\n\u001b[1;32m     20\u001b[0m         \u001b[0mfoldername\u001b[0m\u001b[0;34m=\u001b[0m\u001b[0mfoldername\u001b[0m\u001b[0;34m.\u001b[0m\u001b[0mreplace\u001b[0m\u001b[0;34m(\u001b[0m\u001b[0;34m':'\u001b[0m\u001b[0;34m,\u001b[0m\u001b[0;34m''\u001b[0m\u001b[0;34m)\u001b[0m\u001b[0;34m.\u001b[0m\u001b[0mreplace\u001b[0m\u001b[0;34m(\u001b[0m\u001b[0;34m'-'\u001b[0m\u001b[0;34m,\u001b[0m\u001b[0;34m''\u001b[0m\u001b[0;34m)\u001b[0m\u001b[0;34m\u001b[0m\u001b[0m\n\u001b[0;32m---> 21\u001b[0;31m         \u001b[0mos\u001b[0m\u001b[0;34m.\u001b[0m\u001b[0mrename\u001b[0m\u001b[0;34m(\u001b[0m\u001b[0mfoldername\u001b[0m\u001b[0;34m,\u001b[0m\u001b[0mnewfoldername\u001b[0m\u001b[0;34m)\u001b[0m\u001b[0;34m\u001b[0m\u001b[0m\n\u001b[0m",
      "\u001b[0;31mOSError\u001b[0m: [Errno 2] No such file or directory"
     ]
    }
   ],
   "source": [
    "import os\n",
    "import subprocess\n",
    "\n",
    "color  = 'color'\n",
    "filters  = 'grizy'\n",
    "image_type = 'warp'\n",
    "\n",
    "for index in df.epic.drop_duplicates().index:\n",
    "    epic,ra,dec = df.loc[index]\n",
    "    \n",
    "    newfoldername = str(epic)+'_'+filters\n",
    "    #download\n",
    "    if os.path.exists(newfoldername):\n",
    "        dlfolder = '/home/jp/github/OpenAstro/research/C10/'+newfoldername\n",
    "        #subprocess.call(\"panstamps -FJci --width=1 --filters=$filters stack $ra $dec\", shell=True)\n",
    "        !panstamps -FJci --width=1 --filters=$filters --downloadFolder=$dlfolder $ra $dec\n",
    "    else:\n",
    "        !panstamps -FJci --width=1 --filters=$filters $ra $dec\n",
    "        #foldername='{:.6f}m{:.6f}'.format(ra,dec)\n",
    "        foldername='{}m{}'.format(ra,dec)\n",
    "        foldername=foldername.replace(':','').replace('-','')\n",
    "        os.rename(foldername,newfoldername)"
   ]
  },
  {
   "cell_type": "code",
   "execution_count": 39,
   "metadata": {
    "ExecuteTime": {
     "end_time": "2018-04-02T14:45:17.278018Z",
     "start_time": "2018-04-02T14:45:12.294735Z"
    }
   },
   "outputs": [
    {
     "name": "stdout",
     "output_type": "stream",
     "text": [
      "  1 / 1 (100.0%) URLs downloaded\r\n"
     ]
    }
   ],
   "source": [
    "!panstamps -FJci --width=1 --filters=$filters warp $ra $dec"
   ]
  },
  {
   "cell_type": "code",
   "execution_count": 36,
   "metadata": {
    "ExecuteTime": {
     "end_time": "2018-04-02T14:44:14.744844Z",
     "start_time": "2018-04-02T14:44:14.738649Z"
    }
   },
   "outputs": [
    {
     "data": {
      "text/plain": [
       "'181.239357m6.804924'"
      ]
     },
     "execution_count": 36,
     "metadata": {},
     "output_type": "execute_result"
    }
   ],
   "source": [
    "foldername"
   ]
  }
 ],
 "metadata": {
  "kernelspec": {
   "display_name": "Python 2",
   "language": "python",
   "name": "python2"
  },
  "language_info": {
   "codemirror_mode": {
    "name": "ipython",
    "version": 2
   },
   "file_extension": ".py",
   "mimetype": "text/x-python",
   "name": "python",
   "nbconvert_exporter": "python",
   "pygments_lexer": "ipython2",
   "version": "2.7.13"
  }
 },
 "nbformat": 4,
 "nbformat_minor": 2
}
