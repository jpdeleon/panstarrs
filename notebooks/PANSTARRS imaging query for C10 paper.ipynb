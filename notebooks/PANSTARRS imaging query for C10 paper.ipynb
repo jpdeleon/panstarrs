{
 "cells": [
  {
   "cell_type": "markdown",
   "metadata": {},
   "source": [
    "# C10 Targets\n",
    "Check the (multi-wavelength) pan-starrs images of K2 candidates for possible contamination "
   ]
  },
  {
   "cell_type": "code",
   "execution_count": 1,
   "metadata": {
    "ExecuteTime": {
     "end_time": "2018-04-02T14:45:50.784395Z",
     "start_time": "2018-04-02T14:45:50.668716Z"
    },
    "scrolled": true
   },
   "outputs": [
    {
     "name": "stdout",
     "output_type": "stream",
     "text": [
      "Python 2.7.13 :: Continuum Analytics, Inc.\r\n"
     ]
    }
   ],
   "source": [
    "!python --version"
   ]
  },
  {
   "cell_type": "markdown",
   "metadata": {},
   "source": [
    "# Using `panstamps` \n",
    "* Python 2"
   ]
  },
  {
   "cell_type": "markdown",
   "metadata": {},
   "source": [
    "[read-the-docs](http://panstamps.readthedocs.io/en/stable/_includes/index.html#command-line-tutorial)"
   ]
  },
  {
   "cell_type": "raw",
   "metadata": {},
   "source": [
    "!pip install panstamps\n",
    "#!git clone https://github.com/thespacedoctor/panstamps"
   ]
  },
  {
   "cell_type": "code",
   "execution_count": 2,
   "metadata": {
    "ExecuteTime": {
     "end_time": "2018-04-02T14:45:50.806380Z",
     "start_time": "2018-04-02T14:45:50.786499Z"
    }
   },
   "outputs": [
    {
     "data": {
      "text/plain": [
       "sys.version_info(major=2, minor=7, micro=13, releaselevel='final', serial=0)"
      ]
     },
     "execution_count": 2,
     "metadata": {},
     "output_type": "execute_result"
    }
   ],
   "source": [
    "import sys\n",
    "sys.version_info"
   ]
  },
  {
   "cell_type": "code",
   "execution_count": 3,
   "metadata": {
    "ExecuteTime": {
     "end_time": "2018-04-02T14:45:50.813773Z",
     "start_time": "2018-04-02T14:45:50.810196Z"
    },
    "collapsed": true
   },
   "outputs": [],
   "source": [
    "assert sys.version_info[0] == 2"
   ]
  },
  {
   "cell_type": "code",
   "execution_count": 4,
   "metadata": {
    "ExecuteTime": {
     "end_time": "2018-04-02T14:45:51.795609Z",
     "start_time": "2018-04-02T14:45:50.815790Z"
    }
   },
   "outputs": [
    {
     "name": "stdout",
     "output_type": "stream",
     "text": [
      "Usage:\r\n",
      "    panstamps [options] [--width=<arcminWidth>] [--filters=<filterSet>] [--settings=<pathToSettingsFile>] [--downloadFolder=<path>] (warp|stack) <ra> <dec> [<mjdStart> <mjdEnd>]\r\n",
      "    panstamps [options] --closest=<beforeAfter> [--width=<arcminWidth>] [--filters=<filterSet>] [--settings=<pathToSettingsFile>] [--downloadFolder=<path>] <ra> <dec> <mjd>\r\n"
     ]
    }
   ],
   "source": [
    "!panstamps"
   ]
  },
  {
   "cell_type": "raw",
   "metadata": {},
   "source": [
    "-f, --fits                              download fits (default on)\n",
    "-F, --nofits                            don't download fits (default off)\n",
    "-j, --jpeg                              download jepg (default off)\n",
    "-J, --nojpeg                            don't download jepg (default on)\n",
    "-c, --color                             download color jepg (default off)\n",
    "-C, --nocolor                           don't download color jepg (default on)\n",
    "-a, --annotate                          annotate jpeg (default true)\n",
    "-A, --noannotate                        don't annotate jpeg (default false)\n",
    "-t, --transient                         add a small red circle at transient location (default false)\n",
    "-T, --notransient                       don't add a small red circle at transient location (default true)\n",
    "-g, --greyscale                         convert jpeg to greyscale (default false)\n",
    "-G, --nogreyscale                       don't convert jpeg to greyscale (default true)\n",
    "-i, --invert                            invert jpeg colors (default false)\n",
    "-I, --noinvert                          don't invert jpeg colors (default true)\n",
    "--width=<arcminWidth>                   width of image in arcsec (default 1)\n",
    "--filters=<filterSet>                   filter set to download and use for color image (default gri)\n",
    "--downloadFolder=<path>                 path to the download folder, relative or absolute (folder created where command is run if not set)\n",
    "--settings=<pathToSettingsFile>         the settings file\n",
    "--closest=<beforeAfter>                 return the warp closest in time to the given mjd. If you want to set a strict time window then pass in a positive or negative time in sec (before | after | secs)"
   ]
  },
  {
   "cell_type": "markdown",
   "metadata": {},
   "source": [
    "It is required to use ra and dec as arguments. According to panstarrs website, \n",
    "* epic 201392505 (ra = 183.188556, dec = -1.074821)"
   ]
  },
  {
   "cell_type": "markdown",
   "metadata": {},
   "source": [
    "query a color images, stack with inverted color, and finally download as .jpg"
   ]
  },
  {
   "cell_type": "raw",
   "metadata": {
    "ExecuteTime": {
     "end_time": "2018-03-21T08:07:19.824025Z",
     "start_time": "2018-03-21T08:07:12.981546Z"
    }
   },
   "source": [
    "#test\n",
    "!panstamps -FJci --width=1 --filters=gri stack 183.188556 -1.074821"
   ]
  },
  {
   "cell_type": "markdown",
   "metadata": {},
   "source": [
    "## Targets"
   ]
  },
  {
   "cell_type": "markdown",
   "metadata": {},
   "source": [
    "[gsheet link](https://docs.google.com/spreadsheets/d/1GfK-UxlUjHU5QXJFH34JvAi-tP55wixRCspxAnLVabU/edit#gid=1374274280)"
   ]
  },
  {
   "cell_type": "markdown",
   "metadata": {},
   "source": [
    "First, query the ra and dec of each target"
   ]
  },
  {
   "cell_type": "code",
   "execution_count": 6,
   "metadata": {
    "ExecuteTime": {
     "end_time": "2018-04-02T14:46:02.334681Z",
     "start_time": "2018-04-02T14:46:02.314446Z"
    }
   },
   "outputs": [
    {
     "data": {
      "text/html": [
       "<div>\n",
       "<style>\n",
       "    .dataframe thead tr:only-child th {\n",
       "        text-align: right;\n",
       "    }\n",
       "\n",
       "    .dataframe thead th {\n",
       "        text-align: left;\n",
       "    }\n",
       "\n",
       "    .dataframe tbody tr th {\n",
       "        vertical-align: top;\n",
       "    }\n",
       "</style>\n",
       "<table border=\"1\" class=\"dataframe\">\n",
       "  <thead>\n",
       "    <tr style=\"text-align: right;\">\n",
       "      <th></th>\n",
       "      <th>epic</th>\n",
       "      <th>ra</th>\n",
       "      <th>dec</th>\n",
       "    </tr>\n",
       "  </thead>\n",
       "  <tbody>\n",
       "    <tr>\n",
       "      <th>0</th>\n",
       "      <td>201092629</td>\n",
       "      <td>181.239357</td>\n",
       "      <td>-6.804924</td>\n",
       "    </tr>\n",
       "    <tr>\n",
       "      <th>1</th>\n",
       "      <td>201102594</td>\n",
       "      <td>179.835908</td>\n",
       "      <td>-6.517851</td>\n",
       "    </tr>\n",
       "    <tr>\n",
       "      <th>2</th>\n",
       "      <td>201110617</td>\n",
       "      <td>182.700187</td>\n",
       "      <td>-6.294205</td>\n",
       "    </tr>\n",
       "    <tr>\n",
       "      <th>3</th>\n",
       "      <td>201111557</td>\n",
       "      <td>183.846543</td>\n",
       "      <td>-6.268236</td>\n",
       "    </tr>\n",
       "    <tr>\n",
       "      <th>4</th>\n",
       "      <td>201127519</td>\n",
       "      <td>181.372066</td>\n",
       "      <td>-5.848084</td>\n",
       "    </tr>\n",
       "  </tbody>\n",
       "</table>\n",
       "</div>"
      ],
      "text/plain": [
       "        epic          ra       dec\n",
       "0  201092629  181.239357 -6.804924\n",
       "1  201102594  179.835908 -6.517851\n",
       "2  201110617  182.700187 -6.294205\n",
       "3  201111557  183.846543 -6.268236\n",
       "4  201127519  181.372066 -5.848084"
      ]
     },
     "execution_count": 6,
     "metadata": {},
     "output_type": "execute_result"
    }
   ],
   "source": [
    "import pandas as pd\n",
    "\n",
    "df=pd.read_csv('../c10-candidate.csv',index_col=0)\n",
    "df.head()"
   ]
  },
  {
   "cell_type": "markdown",
   "metadata": {},
   "source": [
    "Note that there are duplicate entries (in Table 1 of the paper) because some epic hosts multiple planets"
   ]
  },
  {
   "cell_type": "code",
   "execution_count": 7,
   "metadata": {
    "ExecuteTime": {
     "end_time": "2018-04-02T14:46:03.313067Z",
     "start_time": "2018-04-02T14:46:03.305256Z"
    }
   },
   "outputs": [
    {
     "data": {
      "text/plain": [
       "array([201092629, 201102594, 201110617, 201111557, 201127519, 201128338,\n",
       "       201132684, 201164625, 201166680, 201180665, 201211526, 201225286,\n",
       "       201274010, 201352100, 201357643, 201386739, 201390048, 201390927,\n",
       "       201392505, 201437844, 201595106, 201598502, 201615463, 228707509,\n",
       "       228720681, 228721452, 228724899, 228725791, 228725972, 228729473,\n",
       "       228732031, 228734900, 228735255, 228736155, 228739306, 228748383,\n",
       "       228748826, 228753871, 228758778, 228758948, 228763938, 228784812,\n",
       "       228798746, 228801451, 228804845, 228809391, 228809550, 228834632,\n",
       "       228836835, 228846243, 228849382, 228888935, 228894622, 228934525,\n",
       "       228964773, 228968232, 228974324, 228974907, 229004835, 229017395,\n",
       "       229103251, 229131722, 229133720])"
      ]
     },
     "execution_count": 7,
     "metadata": {},
     "output_type": "execute_result"
    }
   ],
   "source": [
    "df.epic.unique()"
   ]
  },
  {
   "cell_type": "markdown",
   "metadata": {},
   "source": [
    "query grizy images and download as .fits "
   ]
  },
  {
   "cell_type": "code",
   "execution_count": 18,
   "metadata": {
    "ExecuteTime": {
     "end_time": "2018-04-02T15:02:48.497834Z",
     "start_time": "2018-04-02T14:54:50.489379Z"
    }
   },
   "outputs": [
    {
     "name": "stdout",
     "output_type": "stream",
     "text": [
      "201092629\n",
      "201102594\n",
      "201110617\n",
      "201111557\n",
      "201127519\n",
      "201128338\n",
      "201132684\n",
      "201164625\n",
      "201166680\n",
      "201180665\n",
      "201211526\n",
      "201225286\n",
      "201274010\n",
      "201352100\n",
      "201357643\n",
      "  1 / 5 (20.0%) URLs downloaded\n",
      "\u001b[1A\u001b[2K  2 / 5 (40.0%) URLs downloaded\n",
      "\u001b[1A\u001b[2K  3 / 5 (60.0%) URLs downloaded\n",
      "\u001b[1A\u001b[2K  4 / 5 (80.0%) URLs downloaded\n",
      "\u001b[1A\u001b[2K  5 / 5 (100.0%) URLs downloaded\n",
      "201386739\n",
      "  1 / 5 (20.0%) URLs downloaded\n",
      "\u001b[1A\u001b[2K  2 / 5 (40.0%) URLs downloaded\n",
      "\u001b[1A\u001b[2K  3 / 5 (60.0%) URLs downloaded\n",
      "\u001b[1A\u001b[2K  4 / 5 (80.0%) URLs downloaded\n",
      "\u001b[1A\u001b[2K  5 / 5 (100.0%) URLs downloaded\n",
      "201390048\n",
      "  1 / 5 (20.0%) URLs downloaded\n",
      "\u001b[1A\u001b[2K  2 / 5 (40.0%) URLs downloaded\n",
      "\u001b[1A\u001b[2K  3 / 5 (60.0%) URLs downloaded\n",
      "\u001b[1A\u001b[2K  4 / 5 (80.0%) URLs downloaded\n",
      "\u001b[1A\u001b[2K  5 / 5 (100.0%) URLs downloaded\n",
      "201390927\n",
      "  1 / 5 (20.0%) URLs downloaded\n",
      "\u001b[1A\u001b[2K  2 / 5 (40.0%) URLs downloaded\n",
      "\u001b[1A\u001b[2K  3 / 5 (60.0%) URLs downloaded\n",
      "\u001b[1A\u001b[2K  4 / 5 (80.0%) URLs downloaded\n",
      "\u001b[1A\u001b[2K  5 / 5 (100.0%) URLs downloaded\n",
      "201392505\n",
      "  1 / 5 (20.0%) URLs downloaded\n",
      "\u001b[1A\u001b[2K  2 / 5 (40.0%) URLs downloaded\n",
      "\u001b[1A\u001b[2K  3 / 5 (60.0%) URLs downloaded\n",
      "\u001b[1A\u001b[2K  4 / 5 (80.0%) URLs downloaded\n",
      "\u001b[1A\u001b[2K  5 / 5 (100.0%) URLs downloaded\n",
      "201437844\n",
      "  1 / 5 (20.0%) URLs downloaded\n",
      "\u001b[1A\u001b[2K  2 / 5 (40.0%) URLs downloaded\n",
      "\u001b[1A\u001b[2K  3 / 5 (60.0%) URLs downloaded\n",
      "\u001b[1A\u001b[2K  4 / 5 (80.0%) URLs downloaded\n",
      "\u001b[1A\u001b[2K  5 / 5 (100.0%) URLs downloaded\n",
      "201595106\n",
      "  1 / 5 (20.0%) URLs downloaded\n",
      "\u001b[1A\u001b[2K  2 / 5 (40.0%) URLs downloaded\n",
      "\u001b[1A\u001b[2K  3 / 5 (60.0%) URLs downloaded\n",
      "\u001b[1A\u001b[2K  4 / 5 (80.0%) URLs downloaded\n",
      "\u001b[1A\u001b[2K  5 / 5 (100.0%) URLs downloaded\n",
      "201598502\n",
      "  1 / 5 (20.0%) URLs downloaded\n",
      "\u001b[1A\u001b[2K  2 / 5 (40.0%) URLs downloaded\n",
      "\u001b[1A\u001b[2K  3 / 5 (60.0%) URLs downloaded\n",
      "\u001b[1A\u001b[2K  4 / 5 (80.0%) URLs downloaded\n",
      "\u001b[1A\u001b[2K  5 / 5 (100.0%) URLs downloaded\n",
      "201615463\n",
      "  1 / 5 (20.0%) URLs downloaded\n",
      "\u001b[1A\u001b[2K  2 / 5 (40.0%) URLs downloaded\n",
      "\u001b[1A\u001b[2K  3 / 5 (60.0%) URLs downloaded\n",
      "\u001b[1A\u001b[2K  4 / 5 (80.0%) URLs downloaded\n",
      "\u001b[1A\u001b[2K  5 / 5 (100.0%) URLs downloaded\n",
      "228707509\n",
      "  1 / 5 (20.0%) URLs downloaded\n",
      "\u001b[1A\u001b[2K  2 / 5 (40.0%) URLs downloaded\n",
      "\u001b[1A\u001b[2K  3 / 5 (60.0%) URLs downloaded\n",
      "\u001b[1A\u001b[2K  4 / 5 (80.0%) URLs downloaded\n",
      "\u001b[1A\u001b[2K  5 / 5 (100.0%) URLs downloaded\n",
      "228720681\n",
      "  1 / 5 (20.0%) URLs downloaded\n",
      "\u001b[1A\u001b[2K  2 / 5 (40.0%) URLs downloaded\n",
      "\u001b[1A\u001b[2K  3 / 5 (60.0%) URLs downloaded\n",
      "\u001b[1A\u001b[2K  4 / 5 (80.0%) URLs downloaded\n",
      "\u001b[1A\u001b[2K  5 / 5 (100.0%) URLs downloaded\n",
      "228721452\n",
      "  1 / 5 (20.0%) URLs downloaded\n",
      "\u001b[1A\u001b[2K  2 / 5 (40.0%) URLs downloaded\n",
      "\u001b[1A\u001b[2K  3 / 5 (60.0%) URLs downloaded\n",
      "\u001b[1A\u001b[2K  4 / 5 (80.0%) URLs downloaded\n",
      "\u001b[1A\u001b[2K  5 / 5 (100.0%) URLs downloaded\n",
      "228724899\n",
      "  1 / 5 (20.0%) URLs downloaded\n",
      "\u001b[1A\u001b[2K  2 / 5 (40.0%) URLs downloaded\n",
      "\u001b[1A\u001b[2K  3 / 5 (60.0%) URLs downloaded\n",
      "\u001b[1A\u001b[2K  4 / 5 (80.0%) URLs downloaded\n",
      "\u001b[1A\u001b[2K  5 / 5 (100.0%) URLs downloaded\n",
      "228725791\n",
      "  1 / 5 (20.0%) URLs downloaded\n",
      "\u001b[1A\u001b[2K  2 / 5 (40.0%) URLs downloaded\n",
      "\u001b[1A\u001b[2K  3 / 5 (60.0%) URLs downloaded\n",
      "\u001b[1A\u001b[2K  4 / 5 (80.0%) URLs downloaded\n",
      "\u001b[1A\u001b[2K  5 / 5 (100.0%) URLs downloaded\n",
      "228725972\n",
      "  1 / 5 (20.0%) URLs downloaded\n",
      "\u001b[1A\u001b[2K  2 / 5 (40.0%) URLs downloaded\n",
      "\u001b[1A\u001b[2K  3 / 5 (60.0%) URLs downloaded\n",
      "\u001b[1A\u001b[2K  4 / 5 (80.0%) URLs downloaded\n",
      "\u001b[1A\u001b[2K  5 / 5 (100.0%) URLs downloaded\n",
      "228729473\n",
      "  1 / 5 (20.0%) URLs downloaded\n",
      "\u001b[1A\u001b[2K  2 / 5 (40.0%) URLs downloaded\n",
      "\u001b[1A\u001b[2K  3 / 5 (60.0%) URLs downloaded\n",
      "\u001b[1A\u001b[2K  4 / 5 (80.0%) URLs downloaded\n",
      "\u001b[1A\u001b[2K  5 / 5 (100.0%) URLs downloaded\n",
      "228732031\n",
      "  1 / 5 (20.0%) URLs downloaded\n",
      "\u001b[1A\u001b[2K  2 / 5 (40.0%) URLs downloaded\n",
      "\u001b[1A\u001b[2K  3 / 5 (60.0%) URLs downloaded\n",
      "\u001b[1A\u001b[2K  4 / 5 (80.0%) URLs downloaded\n",
      "\u001b[1A\u001b[2K  5 / 5 (100.0%) URLs downloaded\n",
      "228734900\n",
      "  1 / 5 (20.0%) URLs downloaded\n",
      "\u001b[1A\u001b[2K  2 / 5 (40.0%) URLs downloaded\n",
      "\u001b[1A\u001b[2K  3 / 5 (60.0%) URLs downloaded\n",
      "\u001b[1A\u001b[2K  4 / 5 (80.0%) URLs downloaded\n",
      "\u001b[1A\u001b[2K  5 / 5 (100.0%) URLs downloaded\n",
      "228735255\n",
      "  1 / 5 (20.0%) URLs downloaded\n",
      "\u001b[1A\u001b[2K  2 / 5 (40.0%) URLs downloaded\n",
      "\u001b[1A\u001b[2K  3 / 5 (60.0%) URLs downloaded\n",
      "\u001b[1A\u001b[2K  4 / 5 (80.0%) URLs downloaded\n",
      "\u001b[1A\u001b[2K  5 / 5 (100.0%) URLs downloaded\n",
      "228736155\n",
      "  1 / 5 (20.0%) URLs downloaded\n",
      "\u001b[1A\u001b[2K  2 / 5 (40.0%) URLs downloaded\n",
      "\u001b[1A\u001b[2K  3 / 5 (60.0%) URLs downloaded\n",
      "\u001b[1A\u001b[2K  4 / 5 (80.0%) URLs downloaded\n",
      "\u001b[1A\u001b[2K  5 / 5 (100.0%) URLs downloaded\n",
      "228739306\n",
      "  1 / 5 (20.0%) URLs downloaded\n",
      "\u001b[1A\u001b[2K  2 / 5 (40.0%) URLs downloaded\n",
      "\u001b[1A\u001b[2K  3 / 5 (60.0%) URLs downloaded\n",
      "\u001b[1A\u001b[2K  4 / 5 (80.0%) URLs downloaded\n",
      "\u001b[1A\u001b[2K  5 / 5 (100.0%) URLs downloaded\n",
      "228748383\n",
      "  1 / 5 (20.0%) URLs downloaded\n",
      "\u001b[1A\u001b[2K  2 / 5 (40.0%) URLs downloaded\n",
      "\u001b[1A\u001b[2K  3 / 5 (60.0%) URLs downloaded\n",
      "\u001b[1A\u001b[2K  4 / 5 (80.0%) URLs downloaded\n",
      "\u001b[1A\u001b[2K  5 / 5 (100.0%) URLs downloaded\n",
      "228748826\n",
      "  1 / 5 (20.0%) URLs downloaded\n",
      "\u001b[1A\u001b[2K  2 / 5 (40.0%) URLs downloaded\n",
      "\u001b[1A\u001b[2K  3 / 5 (60.0%) URLs downloaded\n",
      "\u001b[1A\u001b[2K  4 / 5 (80.0%) URLs downloaded\n",
      "\u001b[1A\u001b[2K  5 / 5 (100.0%) URLs downloaded\n",
      "228753871\n",
      "  1 / 5 (20.0%) URLs downloaded\n",
      "\u001b[1A\u001b[2K  2 / 5 (40.0%) URLs downloaded\n",
      "\u001b[1A\u001b[2K  3 / 5 (60.0%) URLs downloaded\n",
      "\u001b[1A\u001b[2K  4 / 5 (80.0%) URLs downloaded\n",
      "\u001b[1A\u001b[2K  5 / 5 (100.0%) URLs downloaded\n",
      "228758778\n",
      "  1 / 5 (20.0%) URLs downloaded\n",
      "\u001b[1A\u001b[2K  2 / 5 (40.0%) URLs downloaded\n",
      "\u001b[1A\u001b[2K  3 / 5 (60.0%) URLs downloaded\n",
      "\u001b[1A\u001b[2K  4 / 5 (80.0%) URLs downloaded\n",
      "\u001b[1A\u001b[2K  5 / 5 (100.0%) URLs downloaded\n",
      "228758948\n",
      "  1 / 5 (20.0%) URLs downloaded\n",
      "\u001b[1A\u001b[2K  2 / 5 (40.0%) URLs downloaded\n",
      "\u001b[1A\u001b[2K  3 / 5 (60.0%) URLs downloaded\n",
      "\u001b[1A\u001b[2K  4 / 5 (80.0%) URLs downloaded\n",
      "\u001b[1A\u001b[2K  5 / 5 (100.0%) URLs downloaded\n",
      "228763938\n",
      "  1 / 5 (20.0%) URLs downloaded\n",
      "\u001b[1A\u001b[2K  2 / 5 (40.0%) URLs downloaded\n",
      "\u001b[1A\u001b[2K  3 / 5 (60.0%) URLs downloaded\n",
      "\u001b[1A\u001b[2K  4 / 5 (80.0%) URLs downloaded\n",
      "\u001b[1A\u001b[2K  5 / 5 (100.0%) URLs downloaded\n",
      "228784812\n",
      "  1 / 5 (20.0%) URLs downloaded\n",
      "\u001b[1A\u001b[2K  2 / 5 (40.0%) URLs downloaded\n",
      "\u001b[1A\u001b[2K  3 / 5 (60.0%) URLs downloaded\n",
      "\u001b[1A\u001b[2K  4 / 5 (80.0%) URLs downloaded\n",
      "\u001b[1A\u001b[2K  5 / 5 (100.0%) URLs downloaded\n",
      "228798746\n",
      "  1 / 5 (20.0%) URLs downloaded\n",
      "\u001b[1A\u001b[2K  2 / 5 (40.0%) URLs downloaded\n",
      "\u001b[1A\u001b[2K  3 / 5 (60.0%) URLs downloaded\n",
      "\u001b[1A\u001b[2K  4 / 5 (80.0%) URLs downloaded\n",
      "\u001b[1A\u001b[2K  5 / 5 (100.0%) URLs downloaded\n",
      "228801451\n",
      "  1 / 5 (20.0%) URLs downloaded\n",
      "\u001b[1A\u001b[2K  2 / 5 (40.0%) URLs downloaded\n",
      "\u001b[1A\u001b[2K  3 / 5 (60.0%) URLs downloaded\n",
      "\u001b[1A\u001b[2K  4 / 5 (80.0%) URLs downloaded\n",
      "\u001b[1A\u001b[2K  5 / 5 (100.0%) URLs downloaded\n",
      "228804845\n",
      "  1 / 5 (20.0%) URLs downloaded\n",
      "\u001b[1A\u001b[2K  2 / 5 (40.0%) URLs downloaded\n",
      "\u001b[1A\u001b[2K  3 / 5 (60.0%) URLs downloaded\n",
      "\u001b[1A\u001b[2K  4 / 5 (80.0%) URLs downloaded\n",
      "\u001b[1A\u001b[2K  5 / 5 (100.0%) URLs downloaded\n",
      "228809391\n",
      "  1 / 5 (20.0%) URLs downloaded\n",
      "\u001b[1A\u001b[2K  2 / 5 (40.0%) URLs downloaded\n",
      "\u001b[1A\u001b[2K  3 / 5 (60.0%) URLs downloaded\n",
      "\u001b[1A\u001b[2K  4 / 5 (80.0%) URLs downloaded\n",
      "\u001b[1A\u001b[2K  5 / 5 (100.0%) URLs downloaded\n",
      "228809550\n",
      "  1 / 5 (20.0%) URLs downloaded\n",
      "\u001b[1A\u001b[2K  2 / 5 (40.0%) URLs downloaded\n",
      "\u001b[1A\u001b[2K  3 / 5 (60.0%) URLs downloaded\n",
      "\u001b[1A\u001b[2K  4 / 5 (80.0%) URLs downloaded\n",
      "\u001b[1A\u001b[2K  5 / 5 (100.0%) URLs downloaded\n",
      "228834632\n",
      "  1 / 5 (20.0%) URLs downloaded\n",
      "\u001b[1A\u001b[2K  2 / 5 (40.0%) URLs downloaded\n",
      "\u001b[1A\u001b[2K  3 / 5 (60.0%) URLs downloaded\n",
      "\u001b[1A\u001b[2K  4 / 5 (80.0%) URLs downloaded\n",
      "\u001b[1A\u001b[2K  5 / 5 (100.0%) URLs downloaded\n",
      "228836835\n",
      "  1 / 5 (20.0%) URLs downloaded\n",
      "\u001b[1A\u001b[2K  2 / 5 (40.0%) URLs downloaded\n",
      "\u001b[1A\u001b[2K  3 / 5 (60.0%) URLs downloaded\n",
      "\u001b[1A\u001b[2K  4 / 5 (80.0%) URLs downloaded\n",
      "\u001b[1A\u001b[2K  5 / 5 (100.0%) URLs downloaded\n",
      "228846243\n",
      "  1 / 5 (20.0%) URLs downloaded\n",
      "\u001b[1A\u001b[2K  2 / 5 (40.0%) URLs downloaded\n",
      "\u001b[1A\u001b[2K  3 / 5 (60.0%) URLs downloaded\n",
      "\u001b[1A\u001b[2K  4 / 5 (80.0%) URLs downloaded\n",
      "\u001b[1A\u001b[2K  5 / 5 (100.0%) URLs downloaded\n",
      "228849382\n",
      "  1 / 5 (20.0%) URLs downloaded\n",
      "\u001b[1A\u001b[2K  2 / 5 (40.0%) URLs downloaded\n",
      "\u001b[1A\u001b[2K  3 / 5 (60.0%) URLs downloaded\n",
      "\u001b[1A\u001b[2K  4 / 5 (80.0%) URLs downloaded\n",
      "\u001b[1A\u001b[2K  5 / 5 (100.0%) URLs downloaded\n",
      "228888935\n",
      "  1 / 5 (20.0%) URLs downloaded\n",
      "\u001b[1A\u001b[2K  2 / 5 (40.0%) URLs downloaded\n",
      "\u001b[1A\u001b[2K  3 / 5 (60.0%) URLs downloaded\n",
      "\u001b[1A\u001b[2K  4 / 5 (80.0%) URLs downloaded\n",
      "\u001b[1A\u001b[2K  5 / 5 (100.0%) URLs downloaded\n",
      "228894622\n",
      "  1 / 5 (20.0%) URLs downloaded\n",
      "\u001b[1A\u001b[2K  2 / 5 (40.0%) URLs downloaded\n",
      "\u001b[1A\u001b[2K  3 / 5 (60.0%) URLs downloaded\n",
      "\u001b[1A\u001b[2K  4 / 5 (80.0%) URLs downloaded\n",
      "\u001b[1A\u001b[2K  5 / 5 (100.0%) URLs downloaded\n",
      "228934525\n",
      "  1 / 5 (20.0%) URLs downloaded\n",
      "\u001b[1A\u001b[2K  2 / 5 (40.0%) URLs downloaded\n",
      "\u001b[1A\u001b[2K  3 / 5 (60.0%) URLs downloaded\n",
      "\u001b[1A\u001b[2K  4 / 5 (80.0%) URLs downloaded\n",
      "\u001b[1A\u001b[2K  5 / 5 (100.0%) URLs downloaded\n"
     ]
    },
    {
     "name": "stdout",
     "output_type": "stream",
     "text": [
      "228964773\n",
      "  1 / 5 (20.0%) URLs downloaded\n",
      "\u001b[1A\u001b[2K  2 / 5 (40.0%) URLs downloaded\n",
      "\u001b[1A\u001b[2K  3 / 5 (60.0%) URLs downloaded\n",
      "\u001b[1A\u001b[2K  4 / 5 (80.0%) URLs downloaded\n",
      "\u001b[1A\u001b[2K  5 / 5 (100.0%) URLs downloaded\n",
      "228968232\n",
      "  1 / 5 (20.0%) URLs downloaded\n",
      "\u001b[1A\u001b[2K  2 / 5 (40.0%) URLs downloaded\n",
      "\u001b[1A\u001b[2K  3 / 5 (60.0%) URLs downloaded\n",
      "\u001b[1A\u001b[2K  4 / 5 (80.0%) URLs downloaded\n",
      "\u001b[1A\u001b[2K  5 / 5 (100.0%) URLs downloaded\n",
      "228974324\n",
      "  1 / 5 (20.0%) URLs downloaded\n",
      "\u001b[1A\u001b[2K  2 / 5 (40.0%) URLs downloaded\n",
      "\u001b[1A\u001b[2K  3 / 5 (60.0%) URLs downloaded\n",
      "\u001b[1A\u001b[2K  4 / 5 (80.0%) URLs downloaded\n",
      "\u001b[1A\u001b[2K  5 / 5 (100.0%) URLs downloaded\n",
      "228974907\n",
      "  1 / 5 (20.0%) URLs downloaded\n",
      "\u001b[1A\u001b[2K  2 / 5 (40.0%) URLs downloaded\n",
      "\u001b[1A\u001b[2K  3 / 5 (60.0%) URLs downloaded\n",
      "\u001b[1A\u001b[2K  4 / 5 (80.0%) URLs downloaded\n",
      "\u001b[1A\u001b[2K  5 / 5 (100.0%) URLs downloaded\n",
      "229004835\n",
      "  1 / 5 (20.0%) URLs downloaded\n",
      "\u001b[1A\u001b[2K  2 / 5 (40.0%) URLs downloaded\n",
      "\u001b[1A\u001b[2K  3 / 5 (60.0%) URLs downloaded\n",
      "\u001b[1A\u001b[2K  4 / 5 (80.0%) URLs downloaded\n",
      "\u001b[1A\u001b[2K  5 / 5 (100.0%) URLs downloaded\n",
      "229017395\n",
      "  1 / 5 (20.0%) URLs downloaded\n",
      "\u001b[1A\u001b[2K  2 / 5 (40.0%) URLs downloaded\n",
      "\u001b[1A\u001b[2K  3 / 5 (60.0%) URLs downloaded\n",
      "\u001b[1A\u001b[2K  4 / 5 (80.0%) URLs downloaded\n",
      "\u001b[1A\u001b[2K  5 / 5 (100.0%) URLs downloaded\n",
      "229103251\n",
      "  1 / 5 (20.0%) URLs downloaded\n",
      "\u001b[1A\u001b[2K  2 / 5 (40.0%) URLs downloaded\n",
      "\u001b[1A\u001b[2K  3 / 5 (60.0%) URLs downloaded\n",
      "\u001b[1A\u001b[2K  4 / 5 (80.0%) URLs downloaded\n",
      "\u001b[1A\u001b[2K  5 / 5 (100.0%) URLs downloaded\n",
      "229131722\n",
      "  1 / 5 (20.0%) URLs downloaded\n",
      "\u001b[1A\u001b[2K  2 / 5 (40.0%) URLs downloaded\n",
      "\u001b[1A\u001b[2K  3 / 5 (60.0%) URLs downloaded\n",
      "\u001b[1A\u001b[2K  4 / 5 (80.0%) URLs downloaded\n",
      "\u001b[1A\u001b[2K  5 / 5 (100.0%) URLs downloaded\n",
      "229133720\n",
      "  1 / 5 (20.0%) URLs downloaded\n",
      "\u001b[1A\u001b[2K  2 / 5 (40.0%) URLs downloaded\n",
      "\u001b[1A\u001b[2K  3 / 5 (60.0%) URLs downloaded\n",
      "\u001b[1A\u001b[2K  4 / 5 (80.0%) URLs downloaded\n",
      "\u001b[1A\u001b[2K  5 / 5 (100.0%) URLs downloaded\n"
     ]
    }
   ],
   "source": [
    "import os\n",
    "\n",
    "filters  = 'grizy'\n",
    "image_type = 'stack'\n",
    "\n",
    "for index in df.epic.drop_duplicates().index:\n",
    "    epic, ra, dec = df.loc[index]\n",
    "    epic=int(epic)\n",
    "    print(epic)\n",
    "    #rename folder\n",
    "    newfoldername = str(epic)+'_'+str(filters)\n",
    "    if not os.path.isdir(newfoldername):\n",
    "        #download\n",
    "        !panstamps -fJC --width=1 --filters=$filters $image_type $ra $dec\n",
    "        try:\n",
    "            foldername='{}m{}'.format(ra,dec)\n",
    "            foldername = foldername.replace(':','').replace('-','')\n",
    "            os.rename(foldername,newfoldername)\n",
    "        except:\n",
    "            foldername='{}p{}'.format(ra,dec)\n",
    "            foldername = foldername.replace(':','').replace('-','')\n",
    "            newfoldername = str(epic)+'_'+str(filters)\n",
    "            os.rename(foldername,newfoldername)"
   ]
  },
  {
   "cell_type": "code",
   "execution_count": null,
   "metadata": {
    "collapsed": true
   },
   "outputs": [],
   "source": []
  }
 ],
 "metadata": {
  "kernelspec": {
   "display_name": "Python 2",
   "language": "python",
   "name": "python2"
  },
  "language_info": {
   "codemirror_mode": {
    "name": "ipython",
    "version": 2
   },
   "file_extension": ".py",
   "mimetype": "text/x-python",
   "name": "python",
   "nbconvert_exporter": "python",
   "pygments_lexer": "ipython2",
   "version": "2.7.13"
  }
 },
 "nbformat": 4,
 "nbformat_minor": 2
}
